{
 "cells": [
  {
   "cell_type": "markdown",
   "id": "dedcaf1c",
   "metadata": {},
   "source": [
    "# Week 4 Exercise\n",
    "\n",
    "**build a linear regression model to predict fuel efficiency (miles per gallon) of automobiles. Download the auto-mpg.csv dataset from: Auto-mpg dataset.**\n",
    "\n",
    "<br>1. Load the data as a Pandas data frame and ensure that it imported correctly.\n",
    "<br>2. Begin by prepping the data for modeling:\n",
    "    <br>&emsp;&emsp;Remove the car name column.\n",
    "    <br>&emsp;&emsp;The horsepower column values likely imported as a string data type. Figure out why and replace any strings with the column mean.\n",
    "    <br>&emsp;&emsp;Create dummy variables for the origin column.\n",
    "<br>3. Create a correlation coefficient matrix and/or visualization. Are there features highly correlated with mpg?\n",
    "<br>4. Plot mpg versus weight. Analyze this graph and explain how it relates to the corresponding correlation coefficient.\n",
    "<br>5. Randomly split the data into 80% training data and 20% test data, where your target is mpg.\n",
    "<br>6. Train an ordinary linear regression on the training data.\n",
    "<br>7. Calculate R2, RMSE, and MAE on both the training and test sets and interpret your results.\n",
    "<br>8. Pick another regression model and repeat the previous two steps. Note: Do NOT choose logistic regression as it is more like a classification model."
   ]
  },
  {
   "cell_type": "markdown",
   "id": "6db554fd",
   "metadata": {},
   "source": [
    "###### 0. Loading necessary modules"
   ]
  },
  {
   "cell_type": "code",
   "execution_count": 1,
   "id": "329c273a",
   "metadata": {},
   "outputs": [],
   "source": [
    "import pandas as pd\n",
    "import matplotlib.pyplot as plt\n",
    "import seaborn as sns\n",
    "import numpy as np\n",
    "from scipy.stats import norm\n",
    "from scipy import stats\n",
    "import warnings\n",
    "warnings.filterwarnings('ignore')"
   ]
  },
  {
   "cell_type": "markdown",
   "id": "1269706d",
   "metadata": {},
   "source": [
    "###### 1. Load the data as a Pandas data frame and ensure that it imported correctly. "
   ]
  },
  {
   "cell_type": "code",
   "execution_count": 2,
   "id": "66c15061",
   "metadata": {},
   "outputs": [],
   "source": [
    "data = pd.read_csv('auto-mpg.csv')"
   ]
  },
  {
   "cell_type": "code",
   "execution_count": 3,
   "id": "3a68f78e",
   "metadata": {},
   "outputs": [
    {
     "name": "stdout",
     "output_type": "stream",
     "text": [
      "    mpg  cylinders  displacement horsepower  weight  acceleration  model year  \\\n",
      "0  18.0          8         307.0        130    3504          12.0          70   \n",
      "1  15.0          8         350.0        165    3693          11.5          70   \n",
      "2  18.0          8         318.0        150    3436          11.0          70   \n",
      "3  16.0          8         304.0        150    3433          12.0          70   \n",
      "4  17.0          8         302.0        140    3449          10.5          70   \n",
      "\n",
      "   origin                   car name  \n",
      "0       1  chevrolet chevelle malibu  \n",
      "1       1          buick skylark 320  \n",
      "2       1         plymouth satellite  \n",
      "3       1              amc rebel sst  \n",
      "4       1                ford torino  \n",
      "RangeIndex(start=0, stop=398, step=1)\n",
      "Index(['mpg', 'cylinders', 'displacement', 'horsepower', 'weight',\n",
      "       'acceleration', 'model year', 'origin', 'car name'],\n",
      "      dtype='object')\n",
      "mpg             float64\n",
      "cylinders         int64\n",
      "displacement    float64\n",
      "horsepower       object\n",
      "weight            int64\n",
      "acceleration    float64\n",
      "model year        int64\n",
      "origin            int64\n",
      "car name         object\n",
      "dtype: object\n"
     ]
    }
   ],
   "source": [
    "print(data.head())\n",
    "print(data.index)\n",
    "print(data.columns)\n",
    "print(data.dtypes)"
   ]
  },
  {
   "cell_type": "markdown",
   "id": "515ec3f9",
   "metadata": {},
   "source": [
    "**Data Description:**\n",
    "\n",
    "Number of columns: 9 \n",
    "\n",
    "column names:\n",
    "\n",
    "mpg: continuous\n",
    "<br>cylinders: multi-valued discrete\n",
    "<br>displacement: continuous\n",
    "<br>horsepower: continuous\n",
    "<br>weight: continuous\n",
    "<br>acceleration: continuous\n",
    "<br>model year: multi-valued discrete\n",
    "<br>origin: multi-valued discrete\n",
    "<br>car name: string (unique for each instance)"
   ]
  },
  {
   "cell_type": "markdown",
   "id": "87ca3c0f",
   "metadata": {},
   "source": [
    "###### 2. Begin by prepping the data for modeling: "
   ]
  },
  {
   "cell_type": "markdown",
   "id": "8c5521e2",
   "metadata": {},
   "source": [
    "###### 2.a Remove the car name column. "
   ]
  },
  {
   "cell_type": "code",
   "execution_count": 4,
   "id": "a400d487",
   "metadata": {},
   "outputs": [],
   "source": [
    "data = data.drop(columns=['car name'])"
   ]
  },
  {
   "cell_type": "markdown",
   "id": "ac1f8e81",
   "metadata": {},
   "source": [
    "###### 2.b The horsepower column values likely imported as a string data type. Figure out why and replace any strings with the column mean."
   ]
  },
  {
   "cell_type": "code",
   "execution_count": 5,
   "id": "71cc9344",
   "metadata": {},
   "outputs": [
    {
     "data": {
      "text/plain": [
       "array(['130', '165', '150', '140', '198', '220', '215', '225', '190',\n",
       "       '170', '160', '95', '97', '85', '88', '46', '87', '90', '113',\n",
       "       '200', '210', '193', '?', '100', '105', '175', '153', '180', '110',\n",
       "       '72', '86', '70', '76', '65', '69', '60', '80', '54', '208', '155',\n",
       "       '112', '92', '145', '137', '158', '167', '94', '107', '230', '49',\n",
       "       '75', '91', '122', '67', '83', '78', '52', '61', '93', '148',\n",
       "       '129', '96', '71', '98', '115', '53', '81', '79', '120', '152',\n",
       "       '102', '108', '68', '58', '149', '89', '63', '48', '66', '139',\n",
       "       '103', '125', '133', '138', '135', '142', '77', '62', '132', '84',\n",
       "       '64', '74', '116', '82'], dtype=object)"
      ]
     },
     "execution_count": 5,
     "metadata": {},
     "output_type": "execute_result"
    }
   ],
   "source": [
    "data.horsepower.unique()"
   ]
  },
  {
   "cell_type": "code",
   "execution_count": 6,
   "id": "eadb9433",
   "metadata": {},
   "outputs": [
    {
     "data": {
      "text/html": [
       "<div>\n",
       "<style scoped>\n",
       "    .dataframe tbody tr th:only-of-type {\n",
       "        vertical-align: middle;\n",
       "    }\n",
       "\n",
       "    .dataframe tbody tr th {\n",
       "        vertical-align: top;\n",
       "    }\n",
       "\n",
       "    .dataframe thead th {\n",
       "        text-align: right;\n",
       "    }\n",
       "</style>\n",
       "<table border=\"1\" class=\"dataframe\">\n",
       "  <thead>\n",
       "    <tr style=\"text-align: right;\">\n",
       "      <th></th>\n",
       "      <th>mpg</th>\n",
       "      <th>cylinders</th>\n",
       "      <th>displacement</th>\n",
       "      <th>horsepower</th>\n",
       "      <th>weight</th>\n",
       "      <th>acceleration</th>\n",
       "      <th>model year</th>\n",
       "      <th>origin</th>\n",
       "    </tr>\n",
       "  </thead>\n",
       "  <tbody>\n",
       "    <tr>\n",
       "      <th>32</th>\n",
       "      <td>25.0</td>\n",
       "      <td>4</td>\n",
       "      <td>98.0</td>\n",
       "      <td>?</td>\n",
       "      <td>2046</td>\n",
       "      <td>19.0</td>\n",
       "      <td>71</td>\n",
       "      <td>1</td>\n",
       "    </tr>\n",
       "    <tr>\n",
       "      <th>126</th>\n",
       "      <td>21.0</td>\n",
       "      <td>6</td>\n",
       "      <td>200.0</td>\n",
       "      <td>?</td>\n",
       "      <td>2875</td>\n",
       "      <td>17.0</td>\n",
       "      <td>74</td>\n",
       "      <td>1</td>\n",
       "    </tr>\n",
       "    <tr>\n",
       "      <th>330</th>\n",
       "      <td>40.9</td>\n",
       "      <td>4</td>\n",
       "      <td>85.0</td>\n",
       "      <td>?</td>\n",
       "      <td>1835</td>\n",
       "      <td>17.3</td>\n",
       "      <td>80</td>\n",
       "      <td>2</td>\n",
       "    </tr>\n",
       "    <tr>\n",
       "      <th>336</th>\n",
       "      <td>23.6</td>\n",
       "      <td>4</td>\n",
       "      <td>140.0</td>\n",
       "      <td>?</td>\n",
       "      <td>2905</td>\n",
       "      <td>14.3</td>\n",
       "      <td>80</td>\n",
       "      <td>1</td>\n",
       "    </tr>\n",
       "    <tr>\n",
       "      <th>354</th>\n",
       "      <td>34.5</td>\n",
       "      <td>4</td>\n",
       "      <td>100.0</td>\n",
       "      <td>?</td>\n",
       "      <td>2320</td>\n",
       "      <td>15.8</td>\n",
       "      <td>81</td>\n",
       "      <td>2</td>\n",
       "    </tr>\n",
       "    <tr>\n",
       "      <th>374</th>\n",
       "      <td>23.0</td>\n",
       "      <td>4</td>\n",
       "      <td>151.0</td>\n",
       "      <td>?</td>\n",
       "      <td>3035</td>\n",
       "      <td>20.5</td>\n",
       "      <td>82</td>\n",
       "      <td>1</td>\n",
       "    </tr>\n",
       "  </tbody>\n",
       "</table>\n",
       "</div>"
      ],
      "text/plain": [
       "      mpg  cylinders  displacement horsepower  weight  acceleration  \\\n",
       "32   25.0          4          98.0          ?    2046          19.0   \n",
       "126  21.0          6         200.0          ?    2875          17.0   \n",
       "330  40.9          4          85.0          ?    1835          17.3   \n",
       "336  23.6          4         140.0          ?    2905          14.3   \n",
       "354  34.5          4         100.0          ?    2320          15.8   \n",
       "374  23.0          4         151.0          ?    3035          20.5   \n",
       "\n",
       "     model year  origin  \n",
       "32           71       1  \n",
       "126          74       1  \n",
       "330          80       2  \n",
       "336          80       1  \n",
       "354          81       2  \n",
       "374          82       1  "
      ]
     },
     "execution_count": 6,
     "metadata": {},
     "output_type": "execute_result"
    }
   ],
   "source": [
    "data.loc[data['horsepower'] == '?']"
   ]
  },
  {
   "cell_type": "markdown",
   "id": "81d70976",
   "metadata": {},
   "source": [
    "There are total 6 rows with horespower as '?', which is causing horsepower to be loaded as String data type"
   ]
  },
  {
   "cell_type": "code",
   "execution_count": 7,
   "id": "2c09a971",
   "metadata": {},
   "outputs": [
    {
     "data": {
      "text/html": [
       "<div>\n",
       "<style scoped>\n",
       "    .dataframe tbody tr th:only-of-type {\n",
       "        vertical-align: middle;\n",
       "    }\n",
       "\n",
       "    .dataframe tbody tr th {\n",
       "        vertical-align: top;\n",
       "    }\n",
       "\n",
       "    .dataframe thead th {\n",
       "        text-align: right;\n",
       "    }\n",
       "</style>\n",
       "<table border=\"1\" class=\"dataframe\">\n",
       "  <thead>\n",
       "    <tr style=\"text-align: right;\">\n",
       "      <th></th>\n",
       "      <th>mpg</th>\n",
       "      <th>cylinders</th>\n",
       "      <th>displacement</th>\n",
       "      <th>horsepower</th>\n",
       "      <th>weight</th>\n",
       "      <th>acceleration</th>\n",
       "      <th>model year</th>\n",
       "      <th>origin</th>\n",
       "    </tr>\n",
       "  </thead>\n",
       "  <tbody>\n",
       "    <tr>\n",
       "      <th>count</th>\n",
       "      <td>392.000000</td>\n",
       "      <td>392.000000</td>\n",
       "      <td>392.000000</td>\n",
       "      <td>392.000000</td>\n",
       "      <td>392.000000</td>\n",
       "      <td>392.000000</td>\n",
       "      <td>392.000000</td>\n",
       "      <td>392.000000</td>\n",
       "    </tr>\n",
       "    <tr>\n",
       "      <th>mean</th>\n",
       "      <td>23.445918</td>\n",
       "      <td>5.471939</td>\n",
       "      <td>194.411990</td>\n",
       "      <td>104.469388</td>\n",
       "      <td>2977.584184</td>\n",
       "      <td>15.541327</td>\n",
       "      <td>75.979592</td>\n",
       "      <td>1.576531</td>\n",
       "    </tr>\n",
       "    <tr>\n",
       "      <th>std</th>\n",
       "      <td>7.805007</td>\n",
       "      <td>1.705783</td>\n",
       "      <td>104.644004</td>\n",
       "      <td>38.491160</td>\n",
       "      <td>849.402560</td>\n",
       "      <td>2.758864</td>\n",
       "      <td>3.683737</td>\n",
       "      <td>0.805518</td>\n",
       "    </tr>\n",
       "    <tr>\n",
       "      <th>min</th>\n",
       "      <td>9.000000</td>\n",
       "      <td>3.000000</td>\n",
       "      <td>68.000000</td>\n",
       "      <td>46.000000</td>\n",
       "      <td>1613.000000</td>\n",
       "      <td>8.000000</td>\n",
       "      <td>70.000000</td>\n",
       "      <td>1.000000</td>\n",
       "    </tr>\n",
       "    <tr>\n",
       "      <th>25%</th>\n",
       "      <td>17.000000</td>\n",
       "      <td>4.000000</td>\n",
       "      <td>105.000000</td>\n",
       "      <td>75.000000</td>\n",
       "      <td>2225.250000</td>\n",
       "      <td>13.775000</td>\n",
       "      <td>73.000000</td>\n",
       "      <td>1.000000</td>\n",
       "    </tr>\n",
       "    <tr>\n",
       "      <th>50%</th>\n",
       "      <td>22.750000</td>\n",
       "      <td>4.000000</td>\n",
       "      <td>151.000000</td>\n",
       "      <td>93.500000</td>\n",
       "      <td>2803.500000</td>\n",
       "      <td>15.500000</td>\n",
       "      <td>76.000000</td>\n",
       "      <td>1.000000</td>\n",
       "    </tr>\n",
       "    <tr>\n",
       "      <th>75%</th>\n",
       "      <td>29.000000</td>\n",
       "      <td>8.000000</td>\n",
       "      <td>275.750000</td>\n",
       "      <td>126.000000</td>\n",
       "      <td>3614.750000</td>\n",
       "      <td>17.025000</td>\n",
       "      <td>79.000000</td>\n",
       "      <td>2.000000</td>\n",
       "    </tr>\n",
       "    <tr>\n",
       "      <th>max</th>\n",
       "      <td>46.600000</td>\n",
       "      <td>8.000000</td>\n",
       "      <td>455.000000</td>\n",
       "      <td>230.000000</td>\n",
       "      <td>5140.000000</td>\n",
       "      <td>24.800000</td>\n",
       "      <td>82.000000</td>\n",
       "      <td>3.000000</td>\n",
       "    </tr>\n",
       "  </tbody>\n",
       "</table>\n",
       "</div>"
      ],
      "text/plain": [
       "              mpg   cylinders  displacement  horsepower       weight  \\\n",
       "count  392.000000  392.000000    392.000000  392.000000   392.000000   \n",
       "mean    23.445918    5.471939    194.411990  104.469388  2977.584184   \n",
       "std      7.805007    1.705783    104.644004   38.491160   849.402560   \n",
       "min      9.000000    3.000000     68.000000   46.000000  1613.000000   \n",
       "25%     17.000000    4.000000    105.000000   75.000000  2225.250000   \n",
       "50%     22.750000    4.000000    151.000000   93.500000  2803.500000   \n",
       "75%     29.000000    8.000000    275.750000  126.000000  3614.750000   \n",
       "max     46.600000    8.000000    455.000000  230.000000  5140.000000   \n",
       "\n",
       "       acceleration  model year      origin  \n",
       "count    392.000000  392.000000  392.000000  \n",
       "mean      15.541327   75.979592    1.576531  \n",
       "std        2.758864    3.683737    0.805518  \n",
       "min        8.000000   70.000000    1.000000  \n",
       "25%       13.775000   73.000000    1.000000  \n",
       "50%       15.500000   76.000000    1.000000  \n",
       "75%       17.025000   79.000000    2.000000  \n",
       "max       24.800000   82.000000    3.000000  "
      ]
     },
     "execution_count": 7,
     "metadata": {},
     "output_type": "execute_result"
    }
   ],
   "source": [
    "data.loc[data['horsepower'] != '?'].astype('float').describe()"
   ]
  },
  {
   "cell_type": "markdown",
   "id": "c67cb58a",
   "metadata": {},
   "source": [
    "Mean for the horspower column is 104.469388 so rounding down to 104.5"
   ]
  },
  {
   "cell_type": "code",
   "execution_count": 8,
   "id": "10aa9f0d",
   "metadata": {},
   "outputs": [],
   "source": [
    "data['horsepower'].loc[(data['horsepower'] == '?')] = 104.5"
   ]
  },
  {
   "cell_type": "code",
   "execution_count": 9,
   "id": "6cd89730",
   "metadata": {},
   "outputs": [
    {
     "data": {
      "text/plain": [
       "array(['130', '165', '150', '140', '198', '220', '215', '225', '190',\n",
       "       '170', '160', '95', '97', '85', '88', '46', '87', '90', '113',\n",
       "       '200', '210', '193', 104.5, '100', '105', '175', '153', '180',\n",
       "       '110', '72', '86', '70', '76', '65', '69', '60', '80', '54', '208',\n",
       "       '155', '112', '92', '145', '137', '158', '167', '94', '107', '230',\n",
       "       '49', '75', '91', '122', '67', '83', '78', '52', '61', '93', '148',\n",
       "       '129', '96', '71', '98', '115', '53', '81', '79', '120', '152',\n",
       "       '102', '108', '68', '58', '149', '89', '63', '48', '66', '139',\n",
       "       '103', '125', '133', '138', '135', '142', '77', '62', '132', '84',\n",
       "       '64', '74', '116', '82'], dtype=object)"
      ]
     },
     "execution_count": 9,
     "metadata": {},
     "output_type": "execute_result"
    }
   ],
   "source": [
    "data.horsepower.unique()"
   ]
  },
  {
   "cell_type": "markdown",
   "id": "726da07b",
   "metadata": {},
   "source": [
    "Value with ? has been replaced by mean value of 104.5"
   ]
  },
  {
   "cell_type": "code",
   "execution_count": 10,
   "id": "61d2dd1c",
   "metadata": {},
   "outputs": [
    {
     "name": "stdout",
     "output_type": "stream",
     "text": [
      "mpg             float64\n",
      "cylinders         int64\n",
      "displacement    float64\n",
      "horsepower      float64\n",
      "weight            int64\n",
      "acceleration    float64\n",
      "model year        int64\n",
      "origin            int64\n",
      "dtype: object\n"
     ]
    }
   ],
   "source": [
    "data.horsepower = data.horsepower.astype('float')\n",
    "print(data.dtypes)"
   ]
  },
  {
   "cell_type": "markdown",
   "id": "aa34589c",
   "metadata": {},
   "source": [
    "Setting horspower to float type column"
   ]
  },
  {
   "cell_type": "markdown",
   "id": "6583e985",
   "metadata": {},
   "source": [
    "###### 2c. Create dummy variables for the origin column. "
   ]
  },
  {
   "cell_type": "markdown",
   "id": "390d4ca5",
   "metadata": {},
   "source": [
    "Dummy variables for Origin column has been created with origin_1,origin_2 & origin_3\n",
    "\n",
    "based on the review of data, origin values seems 1 is a car made in USA, 2 in Europe and 3 in asia or other part of the world"
   ]
  },
  {
   "cell_type": "code",
   "execution_count": 11,
   "id": "ba0722d2",
   "metadata": {},
   "outputs": [],
   "source": [
    "data['origin_code'] = data['origin'].replace([1,2,3],['USA','Europe','Asia'])"
   ]
  },
  {
   "cell_type": "code",
   "execution_count": 12,
   "id": "f9a6678c",
   "metadata": {},
   "outputs": [],
   "source": [
    "data_cleaned = pd.get_dummies(data, columns=['origin_code'])"
   ]
  },
  {
   "cell_type": "code",
   "execution_count": 13,
   "id": "111cb543",
   "metadata": {},
   "outputs": [
    {
     "data": {
      "text/html": [
       "<div>\n",
       "<style scoped>\n",
       "    .dataframe tbody tr th:only-of-type {\n",
       "        vertical-align: middle;\n",
       "    }\n",
       "\n",
       "    .dataframe tbody tr th {\n",
       "        vertical-align: top;\n",
       "    }\n",
       "\n",
       "    .dataframe thead th {\n",
       "        text-align: right;\n",
       "    }\n",
       "</style>\n",
       "<table border=\"1\" class=\"dataframe\">\n",
       "  <thead>\n",
       "    <tr style=\"text-align: right;\">\n",
       "      <th></th>\n",
       "      <th>mpg</th>\n",
       "      <th>cylinders</th>\n",
       "      <th>displacement</th>\n",
       "      <th>horsepower</th>\n",
       "      <th>weight</th>\n",
       "      <th>acceleration</th>\n",
       "      <th>model year</th>\n",
       "      <th>origin</th>\n",
       "      <th>origin_code_Asia</th>\n",
       "      <th>origin_code_Europe</th>\n",
       "      <th>origin_code_USA</th>\n",
       "      <th>origin_code</th>\n",
       "    </tr>\n",
       "  </thead>\n",
       "  <tbody>\n",
       "    <tr>\n",
       "      <th>0</th>\n",
       "      <td>18.0</td>\n",
       "      <td>8</td>\n",
       "      <td>307.0</td>\n",
       "      <td>130.0</td>\n",
       "      <td>3504</td>\n",
       "      <td>12.0</td>\n",
       "      <td>70</td>\n",
       "      <td>1</td>\n",
       "      <td>0</td>\n",
       "      <td>0</td>\n",
       "      <td>1</td>\n",
       "      <td>USA</td>\n",
       "    </tr>\n",
       "    <tr>\n",
       "      <th>1</th>\n",
       "      <td>15.0</td>\n",
       "      <td>8</td>\n",
       "      <td>350.0</td>\n",
       "      <td>165.0</td>\n",
       "      <td>3693</td>\n",
       "      <td>11.5</td>\n",
       "      <td>70</td>\n",
       "      <td>1</td>\n",
       "      <td>0</td>\n",
       "      <td>0</td>\n",
       "      <td>1</td>\n",
       "      <td>USA</td>\n",
       "    </tr>\n",
       "    <tr>\n",
       "      <th>2</th>\n",
       "      <td>18.0</td>\n",
       "      <td>8</td>\n",
       "      <td>318.0</td>\n",
       "      <td>150.0</td>\n",
       "      <td>3436</td>\n",
       "      <td>11.0</td>\n",
       "      <td>70</td>\n",
       "      <td>1</td>\n",
       "      <td>0</td>\n",
       "      <td>0</td>\n",
       "      <td>1</td>\n",
       "      <td>USA</td>\n",
       "    </tr>\n",
       "    <tr>\n",
       "      <th>3</th>\n",
       "      <td>16.0</td>\n",
       "      <td>8</td>\n",
       "      <td>304.0</td>\n",
       "      <td>150.0</td>\n",
       "      <td>3433</td>\n",
       "      <td>12.0</td>\n",
       "      <td>70</td>\n",
       "      <td>1</td>\n",
       "      <td>0</td>\n",
       "      <td>0</td>\n",
       "      <td>1</td>\n",
       "      <td>USA</td>\n",
       "    </tr>\n",
       "    <tr>\n",
       "      <th>4</th>\n",
       "      <td>17.0</td>\n",
       "      <td>8</td>\n",
       "      <td>302.0</td>\n",
       "      <td>140.0</td>\n",
       "      <td>3449</td>\n",
       "      <td>10.5</td>\n",
       "      <td>70</td>\n",
       "      <td>1</td>\n",
       "      <td>0</td>\n",
       "      <td>0</td>\n",
       "      <td>1</td>\n",
       "      <td>USA</td>\n",
       "    </tr>\n",
       "  </tbody>\n",
       "</table>\n",
       "</div>"
      ],
      "text/plain": [
       "    mpg  cylinders  displacement  horsepower  weight  acceleration  \\\n",
       "0  18.0          8         307.0       130.0    3504          12.0   \n",
       "1  15.0          8         350.0       165.0    3693          11.5   \n",
       "2  18.0          8         318.0       150.0    3436          11.0   \n",
       "3  16.0          8         304.0       150.0    3433          12.0   \n",
       "4  17.0          8         302.0       140.0    3449          10.5   \n",
       "\n",
       "   model year  origin  origin_code_Asia  origin_code_Europe  origin_code_USA  \\\n",
       "0          70       1                 0                   0                1   \n",
       "1          70       1                 0                   0                1   \n",
       "2          70       1                 0                   0                1   \n",
       "3          70       1                 0                   0                1   \n",
       "4          70       1                 0                   0                1   \n",
       "\n",
       "  origin_code  \n",
       "0         USA  \n",
       "1         USA  \n",
       "2         USA  \n",
       "3         USA  \n",
       "4         USA  "
      ]
     },
     "execution_count": 13,
     "metadata": {},
     "output_type": "execute_result"
    }
   ],
   "source": [
    "data_cleaned['origin_code'] = data['origin_code']\n",
    "data_cleaned.head()"
   ]
  },
  {
   "cell_type": "markdown",
   "id": "e8775eec",
   "metadata": {},
   "source": [
    "###### 3. Create a correlation coefficient matrix and/or visualization. Are there features highly correlated with mpg? "
   ]
  },
  {
   "cell_type": "code",
   "execution_count": 14,
   "id": "90b434ed",
   "metadata": {},
   "outputs": [
    {
     "name": "stdout",
     "output_type": "stream",
     "text": [
      "Correlation Matrix:\n",
      "                         mpg  cylinders  displacement  horsepower    weight  \\\n",
      "mpg                 1.000000  -0.775396     -0.804203   -0.771430 -0.831741   \n",
      "cylinders          -0.775396   1.000000      0.950721    0.838931  0.896017   \n",
      "displacement       -0.804203   0.950721      1.000000    0.893639  0.932824   \n",
      "horsepower         -0.771430   0.838931      0.893639    1.000000  0.860568   \n",
      "weight             -0.831741   0.896017      0.932824    0.860568  1.000000   \n",
      "acceleration        0.420289  -0.505419     -0.543684   -0.684251 -0.417457   \n",
      "model year          0.579267  -0.348746     -0.370164   -0.411644 -0.306564   \n",
      "origin              0.563450  -0.562543     -0.609409   -0.453673 -0.581024   \n",
      "origin_code_Asia    0.442174  -0.396479     -0.433505   -0.321331 -0.440817   \n",
      "origin_code_Europe  0.259022  -0.352861     -0.373886   -0.281253 -0.298843   \n",
      "origin_code_USA    -0.568192   0.604351      0.651407    0.486084  0.598398   \n",
      "\n",
      "                    acceleration  model year    origin  origin_code_Asia  \\\n",
      "mpg                     0.420289    0.579267  0.563450          0.442174   \n",
      "cylinders              -0.505419   -0.348746 -0.562543         -0.396479   \n",
      "displacement           -0.543684   -0.370164 -0.609409         -0.433505   \n",
      "horsepower             -0.684251   -0.411644 -0.453673         -0.321331   \n",
      "weight                 -0.417457   -0.306564 -0.581024         -0.440817   \n",
      "acceleration            1.000000    0.288137  0.205873          0.109144   \n",
      "model year              0.288137    1.000000  0.180662          0.193101   \n",
      "origin                  0.205873    0.180662  1.000000          0.886596   \n",
      "origin_code_Asia        0.109144    0.193101  0.886596          1.000000   \n",
      "origin_code_Europe      0.204473   -0.024489  0.246332         -0.229895   \n",
      "origin_code_USA        -0.250806   -0.139883 -0.924486         -0.643317   \n",
      "\n",
      "                    origin_code_Europe  origin_code_USA  \n",
      "mpg                           0.259022        -0.568192  \n",
      "cylinders                    -0.352861         0.604351  \n",
      "displacement                 -0.373886         0.651407  \n",
      "horsepower                   -0.281253         0.486084  \n",
      "weight                       -0.298843         0.598398  \n",
      "acceleration                  0.204473        -0.250806  \n",
      "model year                   -0.024489        -0.139883  \n",
      "origin                        0.246332        -0.924486  \n",
      "origin_code_Asia             -0.229895        -0.643317  \n",
      "origin_code_Europe            1.000000        -0.597198  \n",
      "origin_code_USA              -0.597198         1.000000  \n",
      "\n",
      "\n",
      "\n",
      "\n",
      "Correlation Heat Map:\n"
     ]
    },
    {
     "data": {
      "image/png": "[encoded data removed]",
      "text/plain": [
       "<Figure size 1080x1080 with 2 Axes>"
      ]
     },
     "metadata": {
      "needs_background": "light"
     },
     "output_type": "display_data"
    }
   ],
   "source": [
    "corrmat = data_cleaned.corr()\n",
    "f, ax = plt.subplots(figsize=(15, 15))\n",
    "print(\"Correlation Matrix:\")\n",
    "print(corrmat)\n",
    "print(\"\\n\\n\\n\\nCorrelation Heat Map:\")\n",
    "sns.heatmap(corrmat, square=True);"
   ]
  },
  {
   "cell_type": "markdown",
   "id": "3982faff",
   "metadata": {},
   "source": [
    "number of Cylinders, displacement capacity, horspower,weight of the vehicle and cars manufactured in US (origin 1)has strong negative correlation with mpg\n",
    "\n",
    "accelaration and cars manufactured in Europe (Origin 2) have some positive correlation with mpg\n",
    "\n",
    "model of the year and cars manufacured in Asia or other parts (origin 3) have decent positive correlation with mpg"
   ]
  },
  {
   "cell_type": "markdown",
   "id": "b74fd2c9",
   "metadata": {},
   "source": [
    "###### 4. Plot mpg versus weight. Analyze this graph and explain how it relates to the corresponding correlation coefficient."
   ]
  },
  {
   "cell_type": "code",
   "execution_count": 15,
   "id": "bd9bccea",
   "metadata": {},
   "outputs": [
    {
     "data": {
      "text/plain": [
       "<seaborn.axisgrid.FacetGrid at 0x7f9f18f81790>"
      ]
     },
     "execution_count": 15,
     "metadata": {},
     "output_type": "execute_result"
    },
    {
     "data": {
      "image/png": "[encoded data removed]",
      "text/plain": [
       "<Figure size 430.875x360 with 1 Axes>"
      ]
     },
     "metadata": {
      "needs_background": "light"
     },
     "output_type": "display_data"
    }
   ],
   "source": [
    "var = 'weight'\n",
    "plot = sns.lmplot(var,'mpg',data=data_cleaned,hue='origin_code')\n",
    "plot.set(ylim = (0,50))"
   ]
  },
  {
   "cell_type": "markdown",
   "id": "bdb25c30",
   "metadata": {},
   "source": [
    "Scatter plot distribution shows that the story in general aligns with correlation coefficient. Higher the weight lower the mpg.\n",
    "\n",
    "few interesting observations that - except for few outliers wieght has strong negative correalation with mpg\n",
    "<br> Significant number of the american/USA made cars are heavey and are lower in mpg\n",
    "<br> most of the Asian and European made cars are lighter in weight, thus have higher mpg\n",
    "\n",
    "In general Asian made cars are lighter and outperperform their European and US/American counterparts interms of mpg"
   ]
  },
  {
   "cell_type": "markdown",
   "id": "1718f3ed",
   "metadata": {},
   "source": [
    "###### 5. Randomly split the data into 80% training data and 20% test data, where your target is mpg."
   ]
  },
  {
   "cell_type": "code",
   "execution_count": 16,
   "id": "ff537102",
   "metadata": {},
   "outputs": [],
   "source": [
    "from sklearn import linear_model\n",
    "from sklearn.model_selection import train_test_split\n",
    "from sklearn import metrics\n",
    "from sklearn.metrics import mean_squared_error"
   ]
  },
  {
   "cell_type": "code",
   "execution_count": 17,
   "id": "fd7fa566",
   "metadata": {},
   "outputs": [],
   "source": [
    "#Select Predictor columns\n",
    "X = data_cleaned[['cylinders', 'displacement', 'horsepower', 'weight', 'acceleration', 'model year', \"origin\"]]\n",
    "\n",
    "#Select target column\n",
    "y = data_cleaned['mpg']\n",
    "\n",
    "names = [\n",
    "       'mpg'\n",
    "    ,  'cylinders'\n",
    "    ,  'displacement'\n",
    "    ,  'horsepower'\n",
    "    ,  'weight'\n",
    "    ,  'acceleration'\n",
    "    ,  'model year'\n",
    "    ,  'origin'\n",
    "]"
   ]
  },
  {
   "cell_type": "code",
   "execution_count": 18,
   "id": "85648e56",
   "metadata": {},
   "outputs": [],
   "source": [
    "#Split data into training and testing sets\n",
    "X_train, X_test, y_train, y_test = train_test_split(X, y, train_size=0.8, test_size=0.2)"
   ]
  },
  {
   "cell_type": "markdown",
   "id": "b288d802",
   "metadata": {},
   "source": [
    "###### 6.Train an ordinary linear regression on the training data."
   ]
  },
  {
   "cell_type": "code",
   "execution_count": 19,
   "id": "927a1e62",
   "metadata": {},
   "outputs": [
    {
     "data": {
      "text/plain": [
       "[('cylinders', -0.266507052336949),\n",
       " ('displacement', 0.016609722516447226),\n",
       " ('horsepower', -0.013493485335503003),\n",
       " ('weight', -0.006606192794354887),\n",
       " ('acceleration', 0.10455263000997611),\n",
       " ('model year', 0.7735828469488533),\n",
       " ('origin', 1.5254582759149211)]"
      ]
     },
     "execution_count": 19,
     "metadata": {},
     "output_type": "execute_result"
    }
   ],
   "source": [
    "#Train a simple linear regression model\n",
    "regr = linear_model.LinearRegression()\n",
    "regr.fit(X_train, y_train)\n",
    "\n",
    "#Print coefficients\n",
    "list(zip(names[1:8], regr.coef_))"
   ]
  },
  {
   "cell_type": "markdown",
   "id": "f027407f",
   "metadata": {},
   "source": [
    "###### 7.Calculate R2, RMSE, and MAE on both the training and test sets and interpret your results."
   ]
  },
  {
   "cell_type": "code",
   "execution_count": 20,
   "id": "d1aefaaf",
   "metadata": {},
   "outputs": [
    {
     "name": "stdout",
     "output_type": "stream",
     "text": [
      "\n",
      " Mean Squared Error: 11.2290 \n",
      " RMSE: 3.3510 \n",
      " Mean Absolute Error: 2.5561\n"
     ]
    }
   ],
   "source": [
    "#model evaluation\n",
    "#Mean Squared error and R-squared on the training set\n",
    "preds = regr.predict(X_train)\n",
    "mse = metrics.mean_squared_error(y_train, preds)\n",
    "rmse = np.sqrt(mean_squared_error(y_train,preds))\n",
    "mae = metrics.mean_absolute_error(y_train, preds)\n",
    "\n",
    "print(\"\\n Mean Squared Error: %.4f \\n RMSE: %.4f \\n Mean Absolute Error: %.4f\" % (mse,rmse,mae))"
   ]
  },
  {
   "cell_type": "code",
   "execution_count": 21,
   "id": "786984f5",
   "metadata": {},
   "outputs": [
    {
     "name": "stdout",
     "output_type": "stream",
     "text": [
      "\n",
      " Mean Squared Error: 9.8313 \n",
      " RMSE: 3.1355 \n",
      " Mean Absolute Error: 2.4015\n"
     ]
    }
   ],
   "source": [
    "#Test model on held out test set\n",
    "#Mean Squared error on the testing set\n",
    "preds_ = regr.predict(X_test)\n",
    "mse_ = metrics.mean_squared_error(y_test, preds_)\n",
    "rmse_ = np.sqrt(mean_squared_error(y_test,preds_))\n",
    "mae_ = metrics.mean_absolute_error(y_test, preds_)\n",
    "\n",
    "print(\"\\n Mean Squared Error: %.4f \\n RMSE: %.4f \\n Mean Absolute Error: %.4f\" % (mse_,rmse_,mae_))"
   ]
  },
  {
   "cell_type": "code",
   "execution_count": 22,
   "id": "7b46972e",
   "metadata": {},
   "outputs": [
    {
     "name": "stdout",
     "output_type": "stream",
     "text": [
      "Populating the interactive namespace from numpy and matplotlib\n"
     ]
    },
    {
     "data": {
      "text/plain": [
       "<matplotlib.collections.PathCollection at 0x7f9f1b924e80>"
      ]
     },
     "execution_count": 22,
     "metadata": {},
     "output_type": "execute_result"
    },
    {
     "data": {
      "image/png": "[encoded data removed]",
      "text/plain": [
       "<Figure size 432x288 with 1 Axes>"
      ]
     },
     "metadata": {
      "needs_background": "light"
     },
     "output_type": "display_data"
    }
   ],
   "source": [
    "# Diagnostic Plot (errors vs. predicted)\n",
    "%pylab inline\n",
    "#Predicted vs. errors plot -> demonstrates an issue with this fit (high bias)\n",
    "plt.scatter(regr.predict(X_train), regr.predict(X_train)-y_train, color = \"green\")\n",
    "plt.plot([-5,40],[0,0], color = \"red\")\n",
    "\n",
    "#place testing data on the plot as well\n",
    "plt.scatter(regr.predict(X_test), regr.predict(X_test)-y_test, color = \"yellow\")"
   ]
  },
  {
   "cell_type": "markdown",
   "id": "8f639c46",
   "metadata": {},
   "source": [
    "All MSE, MAE and RMSE values are higher.\n",
    "<br>Which is an indication that the model prediction accuracy is not very high.\n",
    "\n",
    "Same is represented in the Plot above the graph the variation in prediction in both Train and Test data sets.\n",
    "<br> there seems to be an inherent high bias generated in linear regression causing errors in prediction"
   ]
  },
  {
   "cell_type": "markdown",
   "id": "53e0c6a1",
   "metadata": {},
   "source": [
    "###### 8.Pick another regression model and repeat the previous two steps. Note: Do NOT choose logistic regression as it is more like a classification model."
   ]
  },
  {
   "cell_type": "code",
   "execution_count": 23,
   "id": "fe8433cd",
   "metadata": {},
   "outputs": [],
   "source": [
    "#Importing random forest regression\n",
    "from sklearn.ensemble import RandomForestRegressor"
   ]
  },
  {
   "cell_type": "code",
   "execution_count": 26,
   "id": "d8d688a0",
   "metadata": {},
   "outputs": [
    {
     "name": "stdout",
     "output_type": "stream",
     "text": [
      "\n",
      " Train: \n",
      " Mean Squared Error: 1.0909 \n",
      " RMSE: 1.0445 \n",
      " Mean Absolute Error: 0.7177\n",
      "\n",
      " Test: \n",
      " Mean Squared Error: 5.6100 \n",
      " RMSE: 2.3685 \n",
      " Mean Absolute Error: 1.6553\n"
     ]
    }
   ],
   "source": [
    "rf_reg = RandomForestRegressor().fit(X_train, y_train)\n",
    "\n",
    "preds_rf_train = rf_reg.predict(X_train)\n",
    "\n",
    "mse_rf_train = metrics.mean_squared_error(y_train, preds_rf_train)\n",
    "rmse_rf_train = np.sqrt(mean_squared_error(y_train,preds_rf_train))\n",
    "mae_rf_train = metrics.mean_absolute_error(y_train, preds_rf_train)\n",
    "print(\"\\n Train: \\n Mean Squared Error: %.4f \\n RMSE: %.4f \\n Mean Absolute Error: %.4f\" % (mse_rf_train,rmse_rf_train,mae_rf_train))\n",
    "\n",
    "\n",
    "preds_rf_test = rf_reg.predict(X_test)\n",
    "\n",
    "mse_rf_test = metrics.mean_squared_error(y_test, preds_rf_test)\n",
    "rmse_rf_test = np.sqrt(mean_squared_error(y_test,preds_rf_test))\n",
    "mae_rf_test = metrics.mean_absolute_error(y_test, preds_rf_test)\n",
    "\n",
    "print(\"\\n Test: \\n Mean Squared Error: %.4f \\n RMSE: %.4f \\n Mean Absolute Error: %.4f\" % (mse_rf_test,rmse_rf_test,mae_rf_test))"
   ]
  },
  {
   "cell_type": "code",
   "execution_count": 27,
   "id": "05256dd0",
   "metadata": {},
   "outputs": [
    {
     "name": "stdout",
     "output_type": "stream",
     "text": [
      "Populating the interactive namespace from numpy and matplotlib\n"
     ]
    },
    {
     "data": {
      "text/plain": [
       "<matplotlib.collections.PathCollection at 0x7f9f1bbed940>"
      ]
     },
     "execution_count": 27,
     "metadata": {},
     "output_type": "execute_result"
    },
    {
     "data": {
      "image/png": "[encoded data removed]",
      "text/plain": [
       "<Figure size 432x288 with 1 Axes>"
      ]
     },
     "metadata": {
      "needs_background": "light"
     },
     "output_type": "display_data"
    }
   ],
   "source": [
    "# Diagnostic Plot (errors vs. predicted)\n",
    "%pylab inline\n",
    "#Predicted vs. errors plot -> demonstrates an issue with this fit (high bias)\n",
    "plt.scatter(rf_reg.predict(X_train), rf_reg.predict(X_train)-y_train, color = \"green\")\n",
    "plt.plot([-5,40],[0,0], color = \"red\")\n",
    "\n",
    "#place testing data on the plot as well\n",
    "plt.scatter(rf_reg.predict(X_test), rf_reg.predict(X_test)-y_test, color = \"yellow\")"
   ]
  },
  {
   "cell_type": "markdown",
   "id": "3b479909",
   "metadata": {},
   "source": [
    "MSE,RMSE and MAE are lower for Random forst are lower in comparision to Liner regression for Train data.\n",
    "<br> however test data seems to perform worse than train data. This could have been a result of overfitting during training,\n",
    "\n",
    "As indicated by the graph as well, the randomforst predicts with higher accuracy in comparision to Linear regression atleast on train data. However model on the test data seems to be perfoming almost similarly. "
   ]
  }
 ],
 "metadata": {
  "kernelspec": {
   "display_name": "Python 3 (ipykernel)",
   "language": "python",
   "name": "python3"
  },
  "language_info": {
   "codemirror_mode": {
    "name": "ipython",
    "version": 3
   },
   "file_extension": ".py",
   "mimetype": "text/x-python",
   "name": "python",
   "nbconvert_exporter": "python",
   "pygments_lexer": "ipython3",
   "version": "3.9.7"
  }
 },
 "nbformat": 4,
 "nbformat_minor": 5
}
