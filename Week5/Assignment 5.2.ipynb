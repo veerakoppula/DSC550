{
 "cells": [
  {
   "cell_type": "markdown",
   "id": "6f3e5177",
   "metadata": {},
   "source": [
    "# Assignment: 5.2 Exercise: Sentiment Analysis and Preprocessing Text\n",
    " \n",
    "\n",
    "**You will build a model with the movie reviews dataset that you worked with in Week 3: Bag of Words Meets Bags of Popcorn.**\n",
    "<br>1.Get the stemmed data using the same process you did in Week 3.\n",
    "<br>2.Split this into a training and test set.\n",
    "<br>3.Fit and apply the tf-idf vectorization to the training set.\n",
    "<br>4.Apply but DO NOT FIT the tf-idf vectorization to the test set (Why?).\n",
    "<br>5.Train a logistic regression using the training data.\n",
    "<br>6.Find the model accuracy on test set.\n",
    "<br>7.Create a confusion matrix for the test set predictions.\n",
    "<br>8.Get the precision, recall, and F1-score for the test set predictions.\n",
    "<br>9.Create a ROC curve for the test set.\n",
    "<br>11.Pick another classification model you learned about this week and repeat steps (5) – (9)."
   ]
  },
  {
   "cell_type": "markdown",
   "id": "8ab823ba",
   "metadata": {},
   "source": [
    "**Import Libraries**"
   ]
  },
  {
   "cell_type": "code",
   "execution_count": 43,
   "id": "c8120737",
   "metadata": {},
   "outputs": [],
   "source": [
    "#preloading necessary packages\n",
    "import pandas as pd \n",
    "import numpy as np\n",
    "import re as re\n",
    "from textblob import TextBlob\n",
    "from textblob.classifiers import NaiveBayesClassifier\n",
    "import nltk\n",
    "from nltk.corpus import stopwords\n",
    "from bs4 import BeautifulSoup \n",
    "from sklearn.feature_extraction.text import CountVectorizer\n",
    "from sklearn.ensemble import RandomForestClassifier\n",
    "import html"
   ]
  },
  {
   "cell_type": "markdown",
   "id": "0e4e6d8e",
   "metadata": {},
   "source": [
    "###### 1.Get the stemmed data using the same process you did in Week 3."
   ]
  },
  {
   "cell_type": "code",
   "execution_count": 9,
   "id": "7b0ba189",
   "metadata": {},
   "outputs": [],
   "source": [
    "#Loading data into data frame\n",
    "train = pd.read_csv('labeledTrainData.tsv.zip', delimiter=\"\\t\")"
   ]
  },
  {
   "cell_type": "code",
   "execution_count": 10,
   "id": "2b5ab37a",
   "metadata": {
    "scrolled": true
   },
   "outputs": [
    {
     "data": {
      "text/html": [
       "<div>\n",
       "<style scoped>\n",
       "    .dataframe tbody tr th:only-of-type {\n",
       "        vertical-align: middle;\n",
       "    }\n",
       "\n",
       "    .dataframe tbody tr th {\n",
       "        vertical-align: top;\n",
       "    }\n",
       "\n",
       "    .dataframe thead th {\n",
       "        text-align: right;\n",
       "    }\n",
       "</style>\n",
       "<table border=\"1\" class=\"dataframe\">\n",
       "  <thead>\n",
       "    <tr style=\"text-align: right;\">\n",
       "      <th></th>\n",
       "      <th>id</th>\n",
       "      <th>sentiment</th>\n",
       "      <th>review</th>\n",
       "    </tr>\n",
       "  </thead>\n",
       "  <tbody>\n",
       "    <tr>\n",
       "      <th>0</th>\n",
       "      <td>5814_8</td>\n",
       "      <td>1</td>\n",
       "      <td>With all this stuff going down at the moment w...</td>\n",
       "    </tr>\n",
       "    <tr>\n",
       "      <th>1</th>\n",
       "      <td>2381_9</td>\n",
       "      <td>1</td>\n",
       "      <td>\\The Classic War of the Worlds\\\" by Timothy Hi...</td>\n",
       "    </tr>\n",
       "    <tr>\n",
       "      <th>2</th>\n",
       "      <td>7759_3</td>\n",
       "      <td>0</td>\n",
       "      <td>The film starts with a manager (Nicholas Bell)...</td>\n",
       "    </tr>\n",
       "    <tr>\n",
       "      <th>3</th>\n",
       "      <td>3630_4</td>\n",
       "      <td>0</td>\n",
       "      <td>It must be assumed that those who praised this...</td>\n",
       "    </tr>\n",
       "    <tr>\n",
       "      <th>4</th>\n",
       "      <td>9495_8</td>\n",
       "      <td>1</td>\n",
       "      <td>Superbly trashy and wondrously unpretentious 8...</td>\n",
       "    </tr>\n",
       "  </tbody>\n",
       "</table>\n",
       "</div>"
      ],
      "text/plain": [
       "       id  sentiment                                             review\n",
       "0  5814_8          1  With all this stuff going down at the moment w...\n",
       "1  2381_9          1  \\The Classic War of the Worlds\\\" by Timothy Hi...\n",
       "2  7759_3          0  The film starts with a manager (Nicholas Bell)...\n",
       "3  3630_4          0  It must be assumed that those who praised this...\n",
       "4  9495_8          1  Superbly trashy and wondrously unpretentious 8..."
      ]
     },
     "execution_count": 10,
     "metadata": {},
     "output_type": "execute_result"
    }
   ],
   "source": [
    "#checking train data\n",
    "train.head()"
   ]
  },
  {
   "cell_type": "markdown",
   "id": "405b1ba2",
   "metadata": {},
   "source": [
    "**Data frame contents**\n",
    "\n",
    "File descriptions:\n",
    "labeledTrainData - The labeled training set. The file is tab-delimited and has a header row followed by 25,000 rows containing an id, sentiment, and text for each review.  \n",
    "\n",
    "Data fields:\n",
    "<br>id - Unique ID of each review\n",
    "<br>sentiment - Sentiment of the review; 1 for positive reviews and 0 for negative reviews\n",
    "<br>review - Text of the review"
   ]
  },
  {
   "cell_type": "markdown",
   "id": "c3ed2708",
   "metadata": {},
   "source": [
    "###### How many of each positive and negative reviews are there? "
   ]
  },
  {
   "cell_type": "code",
   "execution_count": 11,
   "id": "35a3f3c7",
   "metadata": {},
   "outputs": [
    {
     "name": "stdout",
     "output_type": "stream",
     "text": [
      "Number of rows in the data set with positive reviews in dataset : 12500\n",
      "Number of rows in the data set with Negative reviews in dataset : 12500\n"
     ]
    }
   ],
   "source": [
    "#Checking coungs of positive and negative reviews\n",
    "print(\"Number of rows in the data set with positive reviews in dataset :\", sum(train['sentiment'] == 1))\n",
    "print(\"Number of rows in the data set with Negative reviews in dataset :\", sum(train['sentiment'] == 0))"
   ]
  },
  {
   "cell_type": "markdown",
   "id": "67fda13a",
   "metadata": {},
   "source": [
    "**Part 2: Prepping Text**"
   ]
  },
  {
   "cell_type": "markdown",
   "id": "f7a42d9b",
   "metadata": {},
   "source": [
    "###### Clean Data\n",
    "<br>1. Convert all text to lowercase letters. \n",
    "<br>2. Remove punctuation and special characters from the text. \n",
    "<br>3. Remove stop words. "
   ]
  },
  {
   "cell_type": "code",
   "execution_count": 12,
   "id": "f92dba72",
   "metadata": {},
   "outputs": [],
   "source": [
    "#creating function to clean text\n",
    "def clean_text(text):\n",
    "    text = BeautifulSoup(text).get_text() #beautifying text\n",
    "    letters_only = re.sub(\"[^a-zA-Z]\", \" \", text) # clean the html charecters (non text)\n",
    "    words = letters_only.lower().split()   # convert to lower text                        \n",
    "    stops = set(stopwords.words(\"english\")) # setting stop words to remove                  \n",
    "    main_words = [w for w in words if not w in stops]   \n",
    "    return( \" \".join( main_words )) "
   ]
  },
  {
   "cell_type": "code",
   "execution_count": 13,
   "id": "21cc0ae9",
   "metadata": {},
   "outputs": [],
   "source": [
    "#applying clean function on the data frame and creating a new column with clean text\n",
    "train['clean_review'] = train['review'].apply(clean_text)"
   ]
  },
  {
   "cell_type": "markdown",
   "id": "f53e7146",
   "metadata": {},
   "source": [
    "######  Apply NLTK’s PorterStemmer."
   ]
  },
  {
   "cell_type": "code",
   "execution_count": 14,
   "id": "02510e4a",
   "metadata": {},
   "outputs": [],
   "source": [
    "# import these modules\n",
    "from nltk.stem import PorterStemmer"
   ]
  },
  {
   "cell_type": "code",
   "execution_count": 15,
   "id": "798d68e3",
   "metadata": {},
   "outputs": [],
   "source": [
    "#Applying porterstemmer on clean_review\n",
    "ps = PorterStemmer()\n",
    "train['clean_review'] = train['clean_review'].apply(lambda review: ps.stem(review))"
   ]
  },
  {
   "cell_type": "code",
   "execution_count": 16,
   "id": "066961cf",
   "metadata": {},
   "outputs": [
    {
     "name": "stdout",
     "output_type": "stream",
     "text": [
      "['go', 'immediately', 'rent', 'movie', 'bottom', 'shelf', 'local', 'video', 'store', 'covered', 'dust', 'one', 'touched', 'years', 'may', 'even', 'special', 'worth', 'ten', 'bucks', 'swear', 'buy', 'many', 'films', 'compare', 'celluloid', 'version', 'goo', 'forms', 'bottom', 'trash', 'years', 'yes', 'gave', 'really', 'deserves', 'much', 'lower', 'scales', 'designed', 'stuff', 'like', 'mind']\n"
     ]
    }
   ],
   "source": [
    "from nltk import word_tokenize # importing word_tokenize\n",
    "#extracting and prinitng tokenized values sample\n",
    "corpora = train['clean_review'].values\n",
    "tokenized = [word_tokenize(corpus) for corpus in corpora]\n",
    "\n",
    "print(tokenized[2222])"
   ]
  },
  {
   "cell_type": "code",
   "execution_count": 17,
   "id": "19e6e4c4",
   "metadata": {},
   "outputs": [
    {
     "data": {
      "text/plain": [
       "(25000, 4)"
      ]
     },
     "execution_count": 17,
     "metadata": {},
     "output_type": "execute_result"
    }
   ],
   "source": [
    "#shape of train data frame\n",
    "train.shape"
   ]
  },
  {
   "cell_type": "markdown",
   "id": "734b6a08",
   "metadata": {},
   "source": [
    "###### 2.Split this into a training and test set."
   ]
  },
  {
   "cell_type": "code",
   "execution_count": 29,
   "id": "0808d601",
   "metadata": {},
   "outputs": [],
   "source": [
    "#import Necessary libraries\n",
    "from sklearn import linear_model\n",
    "from sklearn.model_selection import train_test_split\n",
    "from sklearn import metrics\n",
    "from sklearn.metrics import mean_squared_error"
   ]
  },
  {
   "cell_type": "code",
   "execution_count": 34,
   "id": "2ca036b1",
   "metadata": {},
   "outputs": [],
   "source": [
    "#Select Predictor columns\n",
    "X = train[['id','clean_review']]\n",
    "\n",
    "#Select target column\n",
    "y = train['sentiment']\n",
    "\n",
    "names = [\n",
    "       'sentiment'\n",
    "    , 'id', 'review'\n",
    "]"
   ]
  },
  {
   "cell_type": "code",
   "execution_count": 35,
   "id": "a8ad75f2",
   "metadata": {},
   "outputs": [],
   "source": [
    "#Split data into training and testing sets\n",
    "X_train, X_test, y_train, y_test = train_test_split(X, y, train_size=0.8, test_size=0.2)"
   ]
  },
  {
   "cell_type": "markdown",
   "id": "9473bc43",
   "metadata": {},
   "source": [
    "###### 3. Fit and apply the tf-idf vectorization to the training set."
   ]
  },
  {
   "cell_type": "code",
   "execution_count": 53,
   "id": "b7c8c2fc",
   "metadata": {},
   "outputs": [],
   "source": [
    "#Creating bag_of_words matrix from clean review\n",
    "count = CountVectorizer()\n",
    "bag_of_words_train = count.fit_transform(X_train['clean_review'])"
   ]
  },
  {
   "cell_type": "code",
   "execution_count": 54,
   "id": "34401f4c",
   "metadata": {},
   "outputs": [
    {
     "data": {
      "text/plain": [
       "<20000x68774 sparse matrix of type '<class 'numpy.int64'>'\n",
       "\twith 1956363 stored elements in Compressed Sparse Row format>"
      ]
     },
     "execution_count": 54,
     "metadata": {},
     "output_type": "execute_result"
    }
   ],
   "source": [
    "bag_of_words_train #Size of bag_of_words"
   ]
  },
  {
   "cell_type": "code",
   "execution_count": 55,
   "id": "79a30fab",
   "metadata": {},
   "outputs": [
    {
     "name": "stdout",
     "output_type": "stream",
     "text": [
      "(20000, 68774)\n"
     ]
    }
   ],
   "source": [
    "# Import tf-idf encoding from sklearn library\n",
    "from sklearn.feature_extraction.text import TfidfVectorizer\n",
    "\n",
    "# Define some hiperparameters of encoded\n",
    "vectorizer = TfidfVectorizer()\n",
    "\n",
    "# Create the training set with the words encoded as features of the reviews\n",
    "train_data_features = vectorizer.fit_transform(X_train['clean_review'])\n",
    "\n",
    "print(train_data_features.shape)"
   ]
  },
  {
   "cell_type": "markdown",
   "id": "9d396f3c",
   "metadata": {},
   "source": [
    "As above shows the shape (20000, 68774) matches the bag_of_words shape from above"
   ]
  },
  {
   "cell_type": "markdown",
   "id": "5297b1d7",
   "metadata": {},
   "source": [
    "##### 4.Apply but DO NOT FIT the tf-idf vectorization to the test set (Why?)."
   ]
  },
  {
   "cell_type": "code",
   "execution_count": 49,
   "id": "27f19642",
   "metadata": {},
   "outputs": [],
   "source": [
    "bag_of_words_test = count.fit_transform(X_test['clean_review'])"
   ]
  },
  {
   "cell_type": "code",
   "execution_count": 50,
   "id": "8f0d9ba4",
   "metadata": {},
   "outputs": [
    {
     "data": {
      "text/plain": [
       "<5000x38949 sparse matrix of type '<class 'numpy.int64'>'\n",
       "\twith 489781 stored elements in Compressed Sparse Row format>"
      ]
     },
     "execution_count": 50,
     "metadata": {},
     "output_type": "execute_result"
    }
   ],
   "source": [
    "bag_of_words_test"
   ]
  },
  {
   "cell_type": "markdown",
   "id": "7f112baa",
   "metadata": {},
   "source": [
    "we dont fit the tf-idf vectorization on test data, as we would be predicting the sentiment value - by applying the model we trained on train data"
   ]
  },
  {
   "cell_type": "markdown",
   "id": "15a10e0a",
   "metadata": {},
   "source": [
    "###### 5. Train a logistic regression using the training data."
   ]
  },
  {
   "cell_type": "code",
   "execution_count": 64,
   "id": "ad9b6312",
   "metadata": {},
   "outputs": [
    {
     "data": {
      "text/plain": [
       "LogisticRegression(multi_class='multinomial', random_state=0)"
      ]
     },
     "execution_count": 64,
     "metadata": {},
     "output_type": "execute_result"
    }
   ],
   "source": [
    "# Import the logistic regression model from sklearn \n",
    "from sklearn.linear_model import LogisticRegression\n",
    "\n",
    "# Define the model\n",
    "model = LogisticRegression(random_state=0, solver='lbfgs',\n",
    "                            multi_class='multinomial')\n",
    "# Train model\n",
    "model.fit(train_data_features, y_train)"
   ]
  },
  {
   "cell_type": "markdown",
   "id": "e64f94b9",
   "metadata": {},
   "source": [
    "###### 6. Find the model accuracy on test set."
   ]
  },
  {
   "cell_type": "code",
   "execution_count": 52,
   "id": "f4f55ebf",
   "metadata": {},
   "outputs": [],
   "source": [
    "###### Testing the model against entire train data from origianl train data"
   ]
  },
  {
   "cell_type": "code",
   "execution_count": 75,
   "id": "eb2d7a87",
   "metadata": {},
   "outputs": [
    {
     "name": "stdout",
     "output_type": "stream",
     "text": [
      "(5000, 2)\n"
     ]
    },
    {
     "data": {
      "text/html": [
       "<div>\n",
       "<style scoped>\n",
       "    .dataframe tbody tr th:only-of-type {\n",
       "        vertical-align: middle;\n",
       "    }\n",
       "\n",
       "    .dataframe tbody tr th {\n",
       "        vertical-align: top;\n",
       "    }\n",
       "\n",
       "    .dataframe thead th {\n",
       "        text-align: right;\n",
       "    }\n",
       "</style>\n",
       "<table border=\"1\" class=\"dataframe\">\n",
       "  <thead>\n",
       "    <tr style=\"text-align: right;\">\n",
       "      <th></th>\n",
       "      <th>id</th>\n",
       "      <th>sentiment_calc</th>\n",
       "      <th>train_sentiment</th>\n",
       "    </tr>\n",
       "  </thead>\n",
       "  <tbody>\n",
       "    <tr>\n",
       "      <th>18472</th>\n",
       "      <td>4292_3</td>\n",
       "      <td>0</td>\n",
       "      <td>0</td>\n",
       "    </tr>\n",
       "    <tr>\n",
       "      <th>9846</th>\n",
       "      <td>7976_7</td>\n",
       "      <td>1</td>\n",
       "      <td>1</td>\n",
       "    </tr>\n",
       "    <tr>\n",
       "      <th>10185</th>\n",
       "      <td>5218_7</td>\n",
       "      <td>1</td>\n",
       "      <td>1</td>\n",
       "    </tr>\n",
       "    <tr>\n",
       "      <th>5110</th>\n",
       "      <td>4718_7</td>\n",
       "      <td>1</td>\n",
       "      <td>1</td>\n",
       "    </tr>\n",
       "    <tr>\n",
       "      <th>8033</th>\n",
       "      <td>2400_3</td>\n",
       "      <td>0</td>\n",
       "      <td>0</td>\n",
       "    </tr>\n",
       "  </tbody>\n",
       "</table>\n",
       "</div>"
      ],
      "text/plain": [
       "           id  sentiment_calc  train_sentiment\n",
       "18472  4292_3               0                0\n",
       "9846   7976_7               1                1\n",
       "10185  5218_7               1                1\n",
       "5110   4718_7               1                1\n",
       "8033   2400_3               0                0"
      ]
     },
     "execution_count": 75,
     "metadata": {},
     "output_type": "execute_result"
    }
   ],
   "source": [
    "# Read the test data\n",
    "\n",
    "print(X_test.shape)\n",
    "\n",
    "\n",
    "# Create the test set with the words encoded as features of the reviews\n",
    "test_data_features_test = vectorizer.transform(X_test['clean_review'])\n",
    "\n",
    "\n",
    "# Use the logistic regression model to make sentiment label predictions\n",
    "result_lr = model.predict(test_data_features_test)\n",
    "\n",
    "# Copy the results to a pandas dataframe with an \"id\" column and a \"sentiment\" column\n",
    "output = pd.DataFrame( data={\"id\":X_test[\"id\"],\"sentiment_calc\":result_lr,\"train_sentiment\":y_test})\n",
    "output.head()"
   ]
  },
  {
   "cell_type": "code",
   "execution_count": 78,
   "id": "adfe4ef7",
   "metadata": {},
   "outputs": [
    {
     "name": "stdout",
     "output_type": "stream",
     "text": [
      "Number of rows in the data set with positive reviews in dataset per Logistics Regression model : 2593\n",
      "Number of rows in the data set with Negative reviews in dataset per Logistics Regression model : 2407\n"
     ]
    }
   ],
   "source": [
    "#Calculating positive and negative review sentiment analysis count by Logistics Regression\n",
    "print(\"Number of rows in the data set with positive reviews in dataset per Logistics Regression model :\", sum(output['sentiment_calc'] > 0))\n",
    "print(\"Number of rows in the data set with Negative reviews in dataset per Logistics Regression model :\", sum(output['sentiment_calc'] == 0))"
   ]
  },
  {
   "cell_type": "code",
   "execution_count": 79,
   "id": "0ed72557",
   "metadata": {},
   "outputs": [
    {
     "name": "stdout",
     "output_type": "stream",
     "text": [
      "Accurate positive sentiment prediction by Logistics Regression model : 2256\n",
      "Accurate negative sentiment prediction by Logistics Regression model : 2189\n"
     ]
    }
   ],
   "source": [
    "#Calculating Accuracy of custom model where labelled test data and Logistics Regression prediction for sentiment are matching\n",
    "print(\"Accurate positive sentiment prediction by Logistics Regression model :\", sum((output['sentiment_calc'] == 1) & (output['train_sentiment'] == 1)))\n",
    "print(\"Accurate negative sentiment prediction by Logistics Regression model :\", sum((output['sentiment_calc'] == 0) & (output['train_sentiment'] == 0)))"
   ]
  },
  {
   "cell_type": "markdown",
   "id": "b296c82e",
   "metadata": {},
   "source": [
    "Total number of agreements by custom model:  2256+2189 = 4445\n",
    "<br>Total number of samples: 5000\n",
    "<br> Accuracy of Logistics regression = (4445/5000)*100 = 88.9%\n",
    "<br>Accuracy of Logistics regression is about 88.9%. This is definitely better than random guessing as it would be a 50% accurate model with either yes or no. \n"
   ]
  },
  {
   "cell_type": "markdown",
   "id": "384259f6",
   "metadata": {},
   "source": [
    "##### 7.Create a confusion matrix for the test set predictions."
   ]
  },
  {
   "cell_type": "code",
   "execution_count": 81,
   "id": "c43880fe",
   "metadata": {},
   "outputs": [
    {
     "name": "stdout",
     "output_type": "stream",
     "text": [
      "Predicted     0     1\n",
      "Actual               \n",
      "0          2189   337\n",
      "1           218  2256\n"
     ]
    }
   ],
   "source": [
    "confusion_matrix = pd.crosstab(output['train_sentiment'], output['sentiment_calc'] , rownames=['Actual'], colnames=['Predicted'])\n",
    "print (confusion_matrix)"
   ]
  },
  {
   "cell_type": "markdown",
   "id": "85e8ef0e",
   "metadata": {},
   "source": [
    "###### 8. Get the precision, recall, and F1-score for the test set predictions."
   ]
  },
  {
   "cell_type": "markdown",
   "id": "532e1a9a",
   "metadata": {},
   "source": [
    "**Precision** = (True Positive)/(True Positive + False Positive) = 2256/(2256+337) = 2256/2593= **0.87**\n",
    "<br>**Recall** = (True Positive)/(True Positive + False Negative) = 2256/(2256+218) = 2256/2474 = **0.912**\n",
    "<br>**F1-Score** = 2((Precison * Recall)/(Precision + Recall)) = 2 ((0.87 * 0.912)/(0.87 + 0.912)) = 2 (0.7934/1.782) = **0.89**"
   ]
  },
  {
   "cell_type": "markdown",
   "id": "417ab175",
   "metadata": {},
   "source": [
    "##### 8.Create a ROC curve for the test set"
   ]
  },
  {
   "cell_type": "code",
   "execution_count": 85,
   "id": "432d5247",
   "metadata": {},
   "outputs": [],
   "source": [
    "from sklearn.metrics import roc_curve\n",
    "import matplotlib.pyplot as plt\n",
    "%matplotlib inline"
   ]
  },
  {
   "cell_type": "code",
   "execution_count": 86,
   "id": "a91382aa",
   "metadata": {},
   "outputs": [
    {
     "data": {
      "image/png": "[encoded data removed]",
      "text/plain": [
       "<Figure size 432x288 with 1 Axes>"
      ]
     },
     "metadata": {
      "needs_background": "light"
     },
     "output_type": "display_data"
    }
   ],
   "source": [
    "y_pred_list = [result_lr]\n",
    "label_list = [\"LR\"]\n",
    "pred_label = zip(y_pred_list, label_list)\n",
    "for y_pred, lbl in pred_label:\n",
    "    fpr, tpr, _ = roc_curve(y_test, y_pred)\n",
    "    plt.plot(fpr, tpr, label = lbl)\n",
    "\n",
    "plt.xlabel(\"True Postive Rate\")\n",
    "plt.ylabel(\"False Positive Rate\")\n",
    "plt.title(\"ROC Curve for Logistics Regression Models\")\n",
    "plt.legend()\n",
    "plt.show()"
   ]
  },
  {
   "cell_type": "markdown",
   "id": "1249568a",
   "metadata": {},
   "source": [
    "##### 9.Pick another classification model you learned about this week and repeat steps (5) – (9)."
   ]
  },
  {
   "cell_type": "code",
   "execution_count": 97,
   "id": "e1fc465a",
   "metadata": {},
   "outputs": [],
   "source": [
    "#Random Forrest\n",
    "# Load libraries\n",
    "from sklearn.ensemble import RandomForestClassifier\n",
    "#Param Grid\n",
    "param_grid = {'n_estimators':[x for x in range(100,1000)],'criterion':['gini', 'entropy'],'min_samples_split':[2,5,10],'min_samples_leaf':[2,5,10] }"
   ]
  },
  {
   "cell_type": "code",
   "execution_count": 98,
   "id": "03e09870",
   "metadata": {},
   "outputs": [],
   "source": [
    "# Vectorize Test data\n",
    "train_data_features_rf = vectorizer.fit_transform(X_train['clean_review'])"
   ]
  },
  {
   "cell_type": "code",
   "execution_count": 99,
   "id": "1f6458d0",
   "metadata": {},
   "outputs": [
    {
     "name": "stdout",
     "output_type": "stream",
     "text": [
      "1.0\n"
     ]
    }
   ],
   "source": [
    "# Train a radius neighbors classifier\n",
    "clf = RandomForestClassifier(n_estimators= 500)\n",
    "clf.fit(train_data_features_rf,y_train)\n",
    "print(clf.score(train_data_features_rf,y_train))"
   ]
  },
  {
   "cell_type": "code",
   "execution_count": 101,
   "id": "d6c4f089",
   "metadata": {},
   "outputs": [
    {
     "name": "stdout",
     "output_type": "stream",
     "text": [
      "(5000, 2)\n"
     ]
    },
    {
     "data": {
      "text/html": [
       "<div>\n",
       "<style scoped>\n",
       "    .dataframe tbody tr th:only-of-type {\n",
       "        vertical-align: middle;\n",
       "    }\n",
       "\n",
       "    .dataframe tbody tr th {\n",
       "        vertical-align: top;\n",
       "    }\n",
       "\n",
       "    .dataframe thead th {\n",
       "        text-align: right;\n",
       "    }\n",
       "</style>\n",
       "<table border=\"1\" class=\"dataframe\">\n",
       "  <thead>\n",
       "    <tr style=\"text-align: right;\">\n",
       "      <th></th>\n",
       "      <th>id</th>\n",
       "      <th>sentiment_calc</th>\n",
       "      <th>train_sentiment</th>\n",
       "    </tr>\n",
       "  </thead>\n",
       "  <tbody>\n",
       "    <tr>\n",
       "      <th>18472</th>\n",
       "      <td>4292_3</td>\n",
       "      <td>0</td>\n",
       "      <td>0</td>\n",
       "    </tr>\n",
       "    <tr>\n",
       "      <th>9846</th>\n",
       "      <td>7976_7</td>\n",
       "      <td>1</td>\n",
       "      <td>1</td>\n",
       "    </tr>\n",
       "    <tr>\n",
       "      <th>10185</th>\n",
       "      <td>5218_7</td>\n",
       "      <td>0</td>\n",
       "      <td>1</td>\n",
       "    </tr>\n",
       "    <tr>\n",
       "      <th>5110</th>\n",
       "      <td>4718_7</td>\n",
       "      <td>1</td>\n",
       "      <td>1</td>\n",
       "    </tr>\n",
       "    <tr>\n",
       "      <th>8033</th>\n",
       "      <td>2400_3</td>\n",
       "      <td>0</td>\n",
       "      <td>0</td>\n",
       "    </tr>\n",
       "  </tbody>\n",
       "</table>\n",
       "</div>"
      ],
      "text/plain": [
       "           id  sentiment_calc  train_sentiment\n",
       "18472  4292_3               0                0\n",
       "9846   7976_7               1                1\n",
       "10185  5218_7               0                1\n",
       "5110   4718_7               1                1\n",
       "8033   2400_3               0                0"
      ]
     },
     "execution_count": 101,
     "metadata": {},
     "output_type": "execute_result"
    }
   ],
   "source": [
    "# Test Random Forest Model\n",
    "# Read the test data\n",
    "print(X_test.shape)\n",
    "# Create the test set with the words encoded as features of the reviews\n",
    "test_data_features_test_rf = vectorizer.transform(X_test['clean_review'])\n",
    "\n",
    "\n",
    "# Use the logistic regression model to make sentiment label predictions\n",
    "result_rf = clf.predict(test_data_features_test_rf)\n",
    "\n",
    "# Copy the results to a pandas dataframe with an \"id\" column and a \"sentiment\" column\n",
    "output_rf = pd.DataFrame( data={\"id\":X_test[\"id\"],\"sentiment_calc\":result_rf,\"train_sentiment\":y_test})\n",
    "output_rf.head()"
   ]
  },
  {
   "cell_type": "code",
   "execution_count": 102,
   "id": "570bee07",
   "metadata": {},
   "outputs": [
    {
     "name": "stdout",
     "output_type": "stream",
     "text": [
      "Number of rows in the data set with positive reviews in dataset per RF model : 2532\n",
      "Number of rows in the data set with Negative reviews in dataset per RF model : 2468\n"
     ]
    }
   ],
   "source": [
    "#Calculating positive and negative review sentiment analysis count by RF\n",
    "print(\"Number of rows in the data set with positive reviews in dataset per RF model :\", sum(output_rf['sentiment_calc'] > 0))\n",
    "print(\"Number of rows in the data set with Negative reviews in dataset per RF model :\", sum(output_rf['sentiment_calc'] == 0))"
   ]
  },
  {
   "cell_type": "code",
   "execution_count": 103,
   "id": "6e22b500",
   "metadata": {},
   "outputs": [
    {
     "name": "stdout",
     "output_type": "stream",
     "text": [
      "Accurate positive sentiment prediction by RF model : 2152\n",
      "Accurate negative sentiment prediction by RF model : 2146\n"
     ]
    }
   ],
   "source": [
    "#Calculating Accuracy of custom model where labelled test data and RF prediction for sentiment are matching\n",
    "print(\"Accurate positive sentiment prediction by RF model :\", sum((output_rf['sentiment_calc'] == 1) & (output_rf['train_sentiment'] == 1)))\n",
    "print(\"Accurate negative sentiment prediction by RF model :\", sum((output_rf['sentiment_calc'] == 0) & (output_rf['train_sentiment'] == 0)))"
   ]
  },
  {
   "cell_type": "markdown",
   "id": "b4ebc022",
   "metadata": {},
   "source": [
    "Total number of agreements by custom model:  2152+2146 = 4298\n",
    "<br>Total number of samples: 5000\n",
    "<br> Accuracy of Logistics regression = (4298/5000)*100 = 85.96%\n",
    "<br>Accuracy of Logistics regression is about 85.96%. This is definitely better than random guessing as it would be a 50% accurate model with either yes or no. \n",
    "\n"
   ]
  },
  {
   "cell_type": "code",
   "execution_count": 105,
   "id": "415b48e6",
   "metadata": {},
   "outputs": [
    {
     "name": "stdout",
     "output_type": "stream",
     "text": [
      "Predicted     0     1\n",
      "Actual               \n",
      "0          2146   380\n",
      "1           322  2152\n"
     ]
    }
   ],
   "source": [
    "#Confusion Matrix for RF\n",
    "confusion_matrix_rf = pd.crosstab(output_rf['train_sentiment'], output_rf['sentiment_calc'] , rownames=['Actual'], colnames=['Predicted'])\n",
    "print (confusion_matrix_rf)"
   ]
  },
  {
   "cell_type": "markdown",
   "id": "97f177f3",
   "metadata": {},
   "source": [
    "**Precision** = (True Positive)/(True Positive + False Positive) = 2152/(2152+380) = 2152/2532= **0.85**\n",
    "<br>**Recall** = (True Positive)/(True Positive + False Negative) = 2152/(2152+322) = 2152/2474 = **0.87**\n",
    "<br>**F1-Score** = 2((Precison * Recall)/(Precision + Recall)) = 2 ((0.85 * 0.87)/(0.85 + 0.87)) = 2 (0.7395/1.72) = **0.86**"
   ]
  },
  {
   "cell_type": "code",
   "execution_count": 107,
   "id": "e8bc8fd9",
   "metadata": {},
   "outputs": [
    {
     "data": {
      "image/png": "[encoded data removed]",
      "text/plain": [
       "<Figure size 432x288 with 1 Axes>"
      ]
     },
     "metadata": {
      "needs_background": "light"
     },
     "output_type": "display_data"
    }
   ],
   "source": [
    "# ROC Curve for RF\n",
    "y_pred_list = [result_rf]\n",
    "label_list = [\"RF\"]\n",
    "pred_label = zip(y_pred_list, label_list)\n",
    "for y_pred, lbl in pred_label:\n",
    "    fpr, tpr, _ = roc_curve(y_test, y_pred)\n",
    "    plt.plot(fpr, tpr, label = lbl)\n",
    "\n",
    "plt.xlabel(\"True Postive Rate\")\n",
    "plt.ylabel(\"False Positive Rate\")\n",
    "plt.title(\"ROC Curve for RF\")\n",
    "plt.legend()\n",
    "plt.show()"
   ]
  },
  {
   "cell_type": "code",
   "execution_count": null,
   "id": "8ceccc89",
   "metadata": {},
   "outputs": [],
   "source": []
  }
 ],
 "metadata": {
  "kernelspec": {
   "display_name": "Python 3 (ipykernel)",
   "language": "python",
   "name": "python3"
  },
  "language_info": {
   "codemirror_mode": {
    "name": "ipython",
    "version": 3
   },
   "file_extension": ".py",
   "mimetype": "text/x-python",
   "name": "python",
   "nbconvert_exporter": "python",
   "pygments_lexer": "ipython3",
   "version": "3.9.7"
  }
 },
 "nbformat": 4,
 "nbformat_minor": 5
}
